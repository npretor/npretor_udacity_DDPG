{
 "cells": [
  {
   "cell_type": "code",
   "execution_count": 1,
   "id": "cb761cf3-212b-48ad-b4c5-5c0a959949d5",
   "metadata": {},
   "outputs": [],
   "source": [
    "import random\n",
    "import torch\n",
    "import numpy as np\n",
    "from collections import deque\n",
    "import matplotlib.pyplot as plt\n",
    "from unityagents import UnityEnvironment\n",
    "%matplotlib inline\n",
    "from ddpg_agent import Agent "
   ]
  },
  {
   "cell_type": "code",
   "execution_count": 2,
   "id": "1f0945cb-553e-4288-859a-d4e01e7a21b4",
   "metadata": {},
   "outputs": [
    {
     "name": "stderr",
     "output_type": "stream",
     "text": [
      "INFO:unityagents:\n",
      "'Academy' started successfully!\n",
      "Unity Academy name: Academy\n",
      "        Number of Brains: 1\n",
      "        Number of External Brains : 1\n",
      "        Lesson number : 0\n",
      "        Reset Parameters :\n",
      "\t\tgoal_speed -> 1.0\n",
      "\t\tgoal_size -> 5.0\n",
      "Unity brain name: ReacherBrain\n",
      "        Number of Visual Observations (per agent): 0\n",
      "        Vector Observation space type: continuous\n",
      "        Vector Observation space size (per agent): 33\n",
      "        Number of stacked Vector Observation: 1\n",
      "        Vector Action space type: continuous\n",
      "        Vector Action space size (per agent): 4\n",
      "        Vector Action descriptions: , , , \n"
     ]
    },
    {
     "name": "stdout",
     "output_type": "stream",
     "text": [
      "Number of agents:     1\n",
      "Size of each action:  4\n",
      "There are 1 agents. Each observes a state with length: 33\n",
      "The state for the first agent looks like:   [[ 0.00000000e+00 -4.00000000e+00  0.00000000e+00  1.00000000e+00\n",
      "  -0.00000000e+00 -0.00000000e+00 -4.37113883e-08  0.00000000e+00\n",
      "   0.00000000e+00  0.00000000e+00  0.00000000e+00  0.00000000e+00\n",
      "   0.00000000e+00  0.00000000e+00 -1.00000000e+01  0.00000000e+00\n",
      "   1.00000000e+00 -0.00000000e+00 -0.00000000e+00 -4.37113883e-08\n",
      "   0.00000000e+00  0.00000000e+00  0.00000000e+00  0.00000000e+00\n",
      "   0.00000000e+00  0.00000000e+00  5.75471878e+00 -1.00000000e+00\n",
      "   5.55726671e+00  0.00000000e+00  1.00000000e+00  0.00000000e+00\n",
      "  -1.68164849e-01]]\n"
     ]
    }
   ],
   "source": [
    "# = = = = = = = = = Enviroment initialization = = = = = = = = = # \n",
    "env = UnityEnvironment(file_name='Reacher_Linux/Reacher.x86')\n",
    "brain_name = env.brain_names[0]\n",
    "brain = env.brains[brain_name]\n",
    "env_info = env.reset(train_mode=True)[brain_name]\n",
    "num_agents = len(env_info.agents)\n",
    "action_size = brain.vector_action_space_size\n",
    "states = env_info.vector_observations\n",
    "state_size = states.shape[1] \n",
    "\n",
    "print('Number of agents:    ', num_agents)  \n",
    "print('Size of each action: ', action_size) \n",
    "print('There are {} agents. Each observes a state with length: {}'.format(states.shape[0], state_size)) \n",
    "print('The state for the first agent looks like:  ', states) "
   ]
  },
  {
   "cell_type": "code",
   "execution_count": 17,
   "id": "6799c7e9-50e4-432e-9eed-e587c7faedca",
   "metadata": {},
   "outputs": [],
   "source": [
    "agent = Agent(state_size=len(states[0]), action_size=action_size, random_seed=10) "
   ]
  },
  {
   "cell_type": "code",
   "execution_count": 15,
   "id": "f5c968f6-15e6-4aee-b2d3-7796586e941e",
   "metadata": {},
   "outputs": [
    {
     "name": "stdout",
     "output_type": "stream",
     "text": [
      "['__class__', '__delattr__', '__dict__', '__dir__', '__doc__', '__eq__', '__format__', '__ge__', '__getattribute__', '__gt__', '__hash__', '__init__', '__init_subclass__', '__le__', '__lt__', '__module__', '__ne__', '__new__', '__reduce__', '__reduce_ex__', '__repr__', '__setattr__', '__sizeof__', '__str__', '__subclasshook__', '__weakref__', 'agents', 'local_done', 'max_reached', 'memories', 'previous_text_actions', 'previous_vector_actions', 'rewards', 'text_observations', 'vector_observations', 'visual_observations']\n",
      "Rewards:    0.0\n",
      "Observations:    [ 0.00000000e+00 -4.00000000e+00  0.00000000e+00  1.00000000e+00\n",
      " -0.00000000e+00 -0.00000000e+00 -4.37113883e-08  0.00000000e+00\n",
      "  0.00000000e+00  0.00000000e+00  0.00000000e+00  0.00000000e+00\n",
      "  0.00000000e+00  0.00000000e+00 -1.00000000e+01  0.00000000e+00\n",
      "  1.00000000e+00 -0.00000000e+00 -0.00000000e+00 -4.37113883e-08\n",
      "  0.00000000e+00  0.00000000e+00  0.00000000e+00  0.00000000e+00\n",
      "  0.00000000e+00  0.00000000e+00  5.75471878e+00 -1.00000000e+00\n",
      "  5.55726671e+00  0.00000000e+00  1.00000000e+00  0.00000000e+00\n",
      " -1.68164849e-01]\n",
      "Observations:    False\n"
     ]
    }
   ],
   "source": [
    "print(dir(env_info))\n",
    "agent_num = 0 \n",
    "print(\"Rewards:   \",env_info.rewards[agent_num]) \n",
    "print(\"Observations:   \",env_info.vector_observations[agent_num] ) \n",
    "print(\"Done status:    \",env_info.local_done[agent_num] ) "
   ]
  },
  {
   "cell_type": "code",
   "execution_count": 20,
   "id": "af2d9a48-1a3f-4235-96c9-0fbcd7221391",
   "metadata": {},
   "outputs": [
    {
     "name": "stderr",
     "output_type": "stream",
     "text": [
      "/home/nathan/anaconda3/envs/drlnd/lib/python3.6/site-packages/torch/nn/functional.py:1698: UserWarning: nn.functional.tanh is deprecated. Use torch.tanh instead.\n",
      "  warnings.warn(\"nn.functional.tanh is deprecated. Use torch.tanh instead.\")\n"
     ]
    },
    {
     "name": "stdout",
     "output_type": "stream",
     "text": [
      "Episode: 10\t Average score: 0.041999999061226846\t Score: 0.08999999798834324\n",
      "Episode: 20\t Average score: 0.020999999530613423\t Score: 0.0\n",
      "Episode: 30\t Average score: 0.01966666622708241\t Score: 0.0\n",
      "Episode: 40\t Average score: 0.020499999541789292\t Score: 0.0\n",
      "Episode: 50\t Average score: 0.018999999575316905\t Score: 0.0\n",
      "Episode: 60\t Average score: 0.019333332901199658\t Score: 0.0\n",
      "Episode: 70\t Average score: 0.01657142820102828\t Score: 0.0\n",
      "Episode: 80\t Average score: 0.01649999963119626\t Score: 0.0\n",
      "Episode: 90\t Average score: 0.018111110706296233\t Score: 0.0\n",
      "Episode: 100\t Average score: 0.01669999962672591\t Score: 0.0\n",
      "Episode: 100\t Average score: 0.01669999962672591\n"
     ]
    },
    {
     "data": {
      "image/png": "[encoded data removed]",
      "text/plain": [
       "<Figure size 432x288 with 1 Axes>"
      ]
     },
     "metadata": {
      "needs_background": "light"
     },
     "output_type": "display_data"
    }
   ],
   "source": [
    "def ddpg(num_episodes=1000, max_timesteps=500):\n",
    "    scores_deque = deque(maxlen=100)\n",
    "    scores = []\n",
    "    max_score = -np.Inf \n",
    "    env_info = env.reset(train_mode=True)[brain_name]\n",
    "    state = env_info.vector_observations[0]\n",
    "    \n",
    "    for ith_episode in range(1, num_episodes+1): \n",
    "        agent.reset() \n",
    "        score = 0 \n",
    "\n",
    "        for timestep in range(max_timesteps): \n",
    "            action = agent.act(state) \n",
    "\n",
    "            env_info = env.step(action) \n",
    "            next_state = env_info[brain_name].vector_observations[agent_num]\n",
    "            reward = env_info[brain_name].rewards[agent_num]\n",
    "            done = env_info[brain_name].local_done[agent_num] \n",
    "\n",
    "            agent.step(state, action, reward, next_state, done) \n",
    "\n",
    "            state = next_state \n",
    "            score += reward\n",
    "            if done:\n",
    "                break\n",
    "\n",
    "        scores_deque.append(score) \n",
    "        scores.append(score) \n",
    "\n",
    "        if ith_episode % 10 == 0:        \n",
    "            print(\"Episode: {}\\t Average score: {}\\t Score: {}\".format(ith_episode, np.mean(scores_deque), score)) \n",
    "\n",
    "        if ith_episode % 100 == 0:\n",
    "            #torch.save(agent.actor_local.state_dict(),  \"checkpoint_actor.pth\")   \n",
    "            #torch.save(agent.critic_local.state_dict(), \"checkpoint_critic.pth\") \n",
    "            print(\"Episode: {}\\t Average score: {}\".format(ith_episode, np.mean(scores_deque))) \n",
    "\n",
    "    return scores \n",
    "\n",
    "scores = ddpg(num_episodes=100) \n",
    "\n",
    "fig = plt.figure() \n",
    "ax = fig.add_subplot(111) \n",
    "plt.plot(np.arange(1, len(scores)+1), scores) \n",
    "plt.ylabel('Score') \n",
    "plt.xlabel('Episode #') \n",
    "plt.show() "
   ]
  }
 ],
 "metadata": {
  "kernelspec": {
   "display_name": "Python 3 (ipykernel)",
   "language": "python",
   "name": "python3"
  },
  "language_info": {
   "codemirror_mode": {
    "name": "ipython",
    "version": 3
   },
   "file_extension": ".py",
   "mimetype": "text/x-python",
   "name": "python",
   "nbconvert_exporter": "python",
   "pygments_lexer": "ipython3",
   "version": "3.6.13"
  }
 },
 "nbformat": 4,
 "nbformat_minor": 5
}
